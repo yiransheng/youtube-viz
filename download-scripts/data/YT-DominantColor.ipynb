{
 "cells": [
  {
   "cell_type": "code",
   "execution_count": 18,
   "metadata": {},
   "outputs": [],
   "source": [
    "import pandas as pd\n",
    "import urllib\n",
    "import os\n",
    "from colorthief import ColorThief"
   ]
  },
  {
   "cell_type": "code",
   "execution_count": 3,
   "metadata": {},
   "outputs": [],
   "source": [
    "data = pd.read_csv(\"yt8m_sample.csv\")"
   ]
  },
  {
   "cell_type": "code",
   "execution_count": 4,
   "metadata": {},
   "outputs": [
    {
     "data": {
      "text/plain": [
       "array(['Unnamed: 0', 'etag', 'id', 'kind', 'snippet.categoryId',\n",
       "       'snippet.channelId', 'snippet.channelTitle',\n",
       "       'snippet.defaultAudioLanguage', 'snippet.description',\n",
       "       'snippet.liveBroadcastContent', 'snippet.localized.description',\n",
       "       'snippet.localized.title', 'snippet.publishedAt', 'snippet.tags',\n",
       "       'snippet.thumbnails.default.height',\n",
       "       'snippet.thumbnails.default.url',\n",
       "       'snippet.thumbnails.default.width',\n",
       "       'snippet.thumbnails.high.height', 'snippet.thumbnails.high.url',\n",
       "       'snippet.thumbnails.high.width', 'snippet.thumbnails.maxres.height',\n",
       "       'snippet.thumbnails.maxres.url', 'snippet.thumbnails.maxres.width',\n",
       "       'snippet.thumbnails.medium.height', 'snippet.thumbnails.medium.url',\n",
       "       'snippet.thumbnails.medium.width',\n",
       "       'snippet.thumbnails.standard.height',\n",
       "       'snippet.thumbnails.standard.url',\n",
       "       'snippet.thumbnails.standard.width', 'snippet.title',\n",
       "       'statistics.commentCount', 'statistics.dislikeCount',\n",
       "       'statistics.favoriteCount', 'statistics.likeCount',\n",
       "       'statistics.viewCount'], dtype=object)"
      ]
     },
     "execution_count": 4,
     "output_type": "execute_result",
     "metadata": {}
    }
   ],
   "source": [
    "data.columns.values"
   ]
  },
  {
   "cell_type": "code",
   "execution_count": 1,
   "metadata": {},
   "outputs": [],
   "source": [
    "def download_thumbnail(url, id, folder=\"./thumbnails/\"):  \n",
    "    urllib.urlretrieve(url, \"{}{}.jpg\".format(folder, id))"
   ]
  },
  {
   "cell_type": "code",
   "execution_count": 17,
   "metadata": {},
   "outputs": [],
   "source": [
    "for index, url, id in data[[\"snippet.thumbnails.default.url\", \"id\"]].itertuples():\n",
    "    download_thumbnail(url, id)"
   ]
  },
  {
   "cell_type": "code",
   "execution_count": 40,
   "metadata": {},
   "outputs": [],
   "source": [
    "def get_color(id):\n",
    "    path = \"./thumbnails/{}.jpg\".format(id)\n",
    "    if not os.path.isfile(path):\n",
    "        return None\n",
    "    try:\n",
    "        color_thief = ColorThief(path)\n",
    "        # get the dominant color\n",
    "        dominant_color = [str(c) for c in color_thief.get_color(quality=1)]\n",
    "        return \"rgb({})\".format(\",\".join(dominant_color))\n",
    "    except:\n",
    "        return None"
   ]
  },
  {
   "cell_type": "code",
   "execution_count": 41,
   "metadata": {},
   "outputs": [
    {
     "data": {
      "text/plain": [
       "'rgb(5,11,5)'"
      ]
     },
     "execution_count": 41,
     "output_type": "execute_result",
     "metadata": {}
    }
   ],
   "source": [
    "get_color(\"ZqGLXispP08\")"
   ]
  },
  {
   "cell_type": "code",
   "execution_count": 42,
   "metadata": {},
   "outputs": [],
   "source": [
    "colors = [get_color(id) for id in data['id']]"
   ]
  },
  {
   "cell_type": "code",
   "execution_count": 43,
   "metadata": {},
   "outputs": [],
   "source": [
    "data[\"dominant_color\"] = colors"
   ]
  },
  {
   "cell_type": "code",
   "execution_count": 44,
   "metadata": {},
   "outputs": [],
   "source": [
    "data_non_missing = data[data['dominant_color'] != None]"
   ]
  },
  {
   "cell_type": "code",
   "execution_count": 46,
   "metadata": {},
   "outputs": [],
   "source": [
    "data_non_missing.to_json(\"./yt8m_sample_withcolor.json\")"
   ]
  },
  {
   "cell_type": "code",
   "execution_count": 49,
   "metadata": {},
   "outputs": [],
   "source": [
    "data_non_missing[\n",
    "    [\"id\", \n",
    "     \"statistics.viewCount\", \n",
    "     \"statistics.likeCount\",\n",
    "     \"statistics.dislikeCount\",\n",
    "     \"statistics.favoriteCount\",\n",
    "     \"statistics.commentCount\",\n",
    "     \"dominant_color\"\n",
    "    ]\n",
    "].dropna().to_json(\"./yt8m_sample_stats.json\")"
   ]
  }
 ],
 "metadata": {
  "anaconda-cloud": {},
  "kernelspec": {
   "display_name": "Python [default]",
   "language": "python",
   "name": "python2"
  },
  "language_info": {
   "codemirror_mode": {
    "name": "ipython",
    "version": 2.0
   },
   "file_extension": ".py",
   "mimetype": "text/x-python",
   "name": "python",
   "nbconvert_exporter": "python",
   "pygments_lexer": "ipython2",
   "version": "2.7.12"
  }
 },
 "nbformat": 4,
 "nbformat_minor": 1
}